{
  "nbformat": 4,
  "nbformat_minor": 0,
  "metadata": {
    "colab": {
      "provenance": []
    },
    "kernelspec": {
      "name": "python3",
      "display_name": "Python 3"
    },
    "language_info": {
      "name": "python"
    }
  },
  "cells": [
    {
      "cell_type": "code",
      "source": [
        "!pip install rdkit\n"
      ],
      "metadata": {
        "id": "_Y_M3QbzY6zc"
      },
      "execution_count": null,
      "outputs": []
    },
    {
      "cell_type": "code",
      "execution_count": 2,
      "metadata": {
        "id": "raefr6VEuDH-"
      },
      "outputs": [],
      "source": [
        "import pandas as pd\n",
        "import numpy as np\n",
        "import rdkit as rd\n",
        "from rdkit import Chem\n",
        "from rdkit.Chem import rdMolDescriptors\n",
        "from rdkit.Chem import Descriptors"
      ]
    },
    {
      "cell_type": "code",
      "source": [
        "df_CB2 = pd.read_csv('CB2_initial_file.csv', delimiter=\";\")\n",
        "df_CKR5 = pd.read_csv('CKR5_initial_file.csv', delimiter=\";\")\n",
        "df_DRD1 = pd.read_csv('DRD1_initial_file.csv', delimiter=\";\")\n",
        "df_B2AR = pd.read_csv('b2ar_initial_file.csv', delimiter=\";\")\n",
        "\n",
        "names = ['cb2_mol_des.csv', 'ckr5_mol_des.csv', 'drd1_mol_des.csv', 'b2ar_mol_des.csv']\n",
        "datasets = [df_CB2, df_CKR5, df_DRD1, df_B2AR]\n",
        "new_datasets = []\n",
        "\n",
        "counter = 0\n",
        "\n",
        "for df in datasets:\n",
        "\n",
        "  # Начальная очитска датасета от лишней информации\n",
        "  df_new = df[['Molecule ChEMBL ID', 'Smiles', 'Target Name', 'Standard Value' ]]\n",
        "  df_new.dropna(how = 'any', inplace=True)\n",
        "  df_new.reset_index(drop=True, inplace=True)\n",
        "  df_new.rename(columns = {\"Molecule ChEMBL ID\" : \"ID\", \"Standard Value\" : \"Ki\"}, inplace=True)\n",
        "\n",
        "  descriptor_names = list(rdMolDescriptors.Properties.GetAvailableProperties())\n",
        "  get_descriptors = rdMolDescriptors.Properties(descriptor_names)\n",
        "  num_descriptors = len(descriptor_names)\n",
        "\n",
        "  # Инициализация пустой матрицы для дескрипторов\n",
        "  descriptors_set = np.empty((0, num_descriptors), float)\n",
        "\n",
        "  # Создание сета дескрипторов\n",
        "  for _, row in df_new.iterrows():\n",
        "    smiles = row['Smiles']\n",
        "    molecule = Chem.MolFromSmiles(smiles)\n",
        "\n",
        "    if molecule is not None:\n",
        "      descriptors = np.array(get_descriptors.ComputeProperties(molecule)).reshape((-1, num_descriptors))\n",
        "      descriptors_set = np.append(descriptors_set, descriptors, axis=0)\n",
        "\n",
        "  # Создание DataFrame с дескрипторами\n",
        "  df_descriptors = pd.DataFrame(descriptors_set, columns=descriptor_names)\n",
        "  df_descriptors.reset_index(drop=True, inplace=True)\n",
        "\n",
        "  # Объединение существующего датасета с новыми дескрипторами\n",
        "  df_clean = pd.concat([df_new, df_descriptors], axis=1)\n",
        "\n",
        "  df_clean.dropna(how = 'any', inplace=True)\n",
        "\n",
        "  df_clean.to_csv(names[counter], index=False)\n",
        "\n",
        "  new_datasets.append(df_clean)\n",
        "\n",
        "  counter += 1"
      ],
      "metadata": {
        "id": "R9E3Bk0WTIJx"
      },
      "execution_count": null,
      "outputs": []
    }
  ]
}