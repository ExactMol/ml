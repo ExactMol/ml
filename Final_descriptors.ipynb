{
  "nbformat": 4,
  "nbformat_minor": 0,
  "metadata": {
    "colab": {
      "provenance": []
    },
    "kernelspec": {
      "name": "python3",
      "display_name": "Python 3"
    },
    "language_info": {
      "name": "python"
    }
  },
  "cells": [
    {
      "cell_type": "code",
      "source": [
        "!pip install PyBioMed"
      ],
      "metadata": {
        "id": "K9ps-1HIy-Zv"
      },
      "execution_count": null,
      "outputs": []
    },
    {
      "cell_type": "code",
      "source": [
        "!pip install Pybel\n",
        "!pip install RDkit"
      ],
      "metadata": {
        "id": "DSXkriRvzLWG"
      },
      "execution_count": null,
      "outputs": []
    },
    {
      "cell_type": "code",
      "source": [
        "# Модуль для использования класса PyProtein в Colab\n",
        "from google.colab import drive\n",
        "drive.mount('/content/drive')\n",
        "\n",
        "import sys\n",
        "sys.path.append('/content/drive/My Drive')\n",
        "\n",
        "import Protein_funcs"
      ],
      "metadata": {
        "colab": {
          "base_uri": "https://localhost:8080/"
        },
        "id": "N5j9l2lcyq8Q",
        "outputId": "342cd4f3-ddbd-48d7-e180-78e44909a9ff"
      },
      "execution_count": 3,
      "outputs": [
        {
          "output_type": "stream",
          "name": "stdout",
          "text": [
            "Mounted at /content/drive\n"
          ]
        }
      ]
    },
    {
      "cell_type": "code",
      "source": [
        "import pandas as pd\n",
        "\n",
        "#Аминокислотные последовательности получены из базы данных UniProt\n",
        "cb2 = 'MEECWVTEIANGSKDGLDSNPMKDYMILSGPQKTAVAVLCTLLGLLSALENVAVLYLILSSHQLRRKPSYLFIGSLAGADFLASVVFACSFVNFHVFHGVDSKAVFLLKIGSVTMTFTASVGSLLLTAIDRYLCLRYPPSYKALLTRGRALVTLGIMWVLSALVSYLPLMGWTCCPRPCSELFPLIPNDYLLSWLLFIAFLFSGIIYTYGHVLWKAHQHVASLSGHQDRQVPGMARMRLDVRLAKTLGLVLAVLLICWFPVLALMAHSLATTLSDQVKKAFAFCSMLCLINSMVNPVIYALRSGEIRSSAHHCLAHWKKCVRGLGSEAKEEAPRSSVTETEADGKITPWPDSRDLDLSDC'\n",
        "ckr5 = 'MDYQVSSPIYDINYYTSEPCQKINVKQIAARLLPPLYSLVFIFGFVGNMLVILILINCKRLKSMTDIYLLNLAISDLFFLLTVPFWAHYAAAQWDFGNTMCQLLTGLYFIGFFSGIFFIILLTIDRYLAVVHAVFALKARTVTFGVVTSVITWVVAVFASLPGIIFTRSQKEGLHYTCSSHFPYSQYQFWKNFQTLKIVILGLVLPLLVMVICYSGILKTLLRCRNEKKRHRAVRLIFTIMIVYFLFWAPYNIVLLLNTFQEFFGLNNCSSSNRLDQAMQVTETLGMTHCCINPIIYAFVGEKFRNYLLVFFQKHIAKRFCKCCSIFQQEAPERASSVYTRSTGEQEISVGL'\n",
        "drd1 = 'MRTLNTSAMDGTGLVVERDFSVRILTACFLSLLILSTLLGNTLVCAAVIRFRHLRSKVTNFFVISLAVSDLLVAVLVMPWKAVAEIAGFWPFGSFCNIWVAFDIMCSTASILNLCVISVDRYWAISSPFRYERKMTPKAAFILISVAWTLSVLISFIPVQLSWHKAKPTSPSDGNATSLAETIDNCDSSLSRTYAISSSVISFYIPVAIMIVTYTRIYRIAQKQIRRIAALERAAVHAKNCQTTTGNGKPVECSQPESSFKMSFKRETKVLKTLSVIMGVFVCCWLPFFILNCILPFCGSGETQPFCIDSNTFDVFVWFGWANSSLNPIIYAFNADFRKAFSTLLGCYRLCPATNNAIETVSINNNGAAMFSSHHEPRGSISKECNLVYLIPHAVGSSEDLKKEEAAGIARPLEKLSPALSVILDYDTDVSLEKIQPITQNGQHPT'\n",
        "b2ar = 'MGQPGNGSAFLLAPNGSHAPDHDVTQERDEVWVVGMGIVMSLIVLAIVFGNVLVITAIAKFERLQTVTNYFITSLACADLVMGLAVVPFGAAHILMKMWTFGNFWCEFWTSIDVLCVTASIETLCVIAVDRYFAITSPFKYQSLLTKNKARVIILMVWIVSGLTSFLPIQMHWYRATHQEAINCYANETCCDFFTNQAYAIASSIVSFYVPLVIMVFVYSRVFQEAKRQLQKIDKSEGRFHVQNLSQVEQDGRTGHGLRRSSKFCLKEHKALKTLGIIMGTFTLCWLPFFIVNIVHVIQDNLIRKEVYILLNWIGYVNSGFNPLIYCRSPDFRIAFQELLCLRRSSLKAYGNGYSSNGNTGEQSGYHVEQEKENKLLCEDLPGTEDFVGHQGTVPSDNIDSQGRNCSTNDSLL'\n",
        "\n",
        "proteins = [cb2, ckr5, drd1, b2ar]\n",
        "\n",
        "cb2_mol_des = pd.read_csv('cb2_mol_des.csv')\n",
        "ckr5_mol_des = pd.read_csv('ckr5_mol_des.csv')\n",
        "drd1_mol_des = pd.read_csv('drd1_mol_des.csv')\n",
        "b2ar_mol_des = pd.read_csv('b2ar_mol_des.csv')\n",
        "\n",
        "\n",
        "molecular_descriptors = [cb2_mol_des, ckr5_mol_des, drd1_mol_des, b2ar_mol_des]\n",
        "\n",
        "names = ['cb2_all_descriptors.csv', 'ckr5_all_descriptors.csv', 'drd1_all_descriptors.csv', 'b2ar_all_descriptors.csv']\n",
        "\n",
        "counter = 0\n",
        "\n",
        "new_datasets = []\n",
        "\n",
        "for protein in proteins:\n",
        "  cds = Protein_funcs.PyProtein(protein)\n",
        "  result = cds.GetALL()\n",
        "  df = pd.DataFrame(list(result.items()), columns=['Key', 'Value'])\n",
        "  df = df[df['Key'].str.len() > 3]\n",
        "  df.reset_index(drop=True, inplace=True)\n",
        "  df['Key'] = df['Key'].str.replace('\\d+', '')\n",
        "  df['Key_prefix'] = df['Key'].str[:-1]\n",
        "  aggregated_df = df.groupby('Key_prefix').agg({'Key': 'first', 'Value': 'mean'}).reset_index(drop=True)\n",
        "\n",
        "  mol_des = molecular_descriptors[counter]\n",
        "\n",
        "  n = 0\n",
        "  for i in aggregated_df['Key']:\n",
        "    mol_des[i] = aggregated_df['Value'][n]\n",
        "    n += 1\n",
        "\n",
        "  mol_des.to_csv(names[counter], index=False)\n",
        "\n",
        "  new_datasets.append(mol_des)\n",
        "\n",
        "  counter += 1\n"
      ],
      "metadata": {
        "id": "VhBe-H5FDFUw"
      },
      "execution_count": null,
      "outputs": []
    },
    {
      "cell_type": "code",
      "source": [
        "for data in new_datasets:\n",
        "  data.info()\n",
        "  print(data)"
      ],
      "metadata": {
        "id": "D05xDcigIvTI"
      },
      "execution_count": null,
      "outputs": []
    }
  ]
}